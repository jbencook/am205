{
 "metadata": {
  "name": ""
 },
 "nbformat": 3,
 "nbformat_minor": 0,
 "worksheets": [
  {
   "cells": [
    {
     "cell_type": "code",
     "collapsed": false,
     "input": [
      "%matplotlib inline\n",
      "import matplotlib.pyplot as plt\n",
      "import numpy as np\n",
      "from scipy.io import mmread, mmwrite\n",
      "import scipy.sparse.linalg as sla\n",
      "import pandas as pd\n",
      "import os\n",
      "import time\n",
      "from sys import argv\n",
      "from subprocess import call"
     ],
     "language": "python",
     "metadata": {},
     "outputs": [],
     "prompt_number": 22
    },
    {
     "cell_type": "code",
     "collapsed": false,
     "input": [
      "A = np.random.randint(0,100, size=(1000,10))"
     ],
     "language": "python",
     "metadata": {},
     "outputs": [],
     "prompt_number": 37
    },
    {
     "cell_type": "code",
     "collapsed": false,
     "input": [
      "from svdmod import svd"
     ],
     "language": "python",
     "metadata": {},
     "outputs": [],
     "prompt_number": 38
    },
    {
     "cell_type": "code",
     "collapsed": false,
     "input": [
      "u,w,vt = svd(A)"
     ],
     "language": "python",
     "metadata": {},
     "outputs": [],
     "prompt_number": 39
    },
    {
     "cell_type": "code",
     "collapsed": false,
     "input": [
      "u"
     ],
     "language": "python",
     "metadata": {},
     "outputs": [
      {
       "metadata": {},
       "output_type": "pyout",
       "prompt_number": 40,
       "text": [
        "array([[0, 0, 0, ..., 0, 0, 0],\n",
        "       [0, 0, 0, ..., 0, 0, 0],\n",
        "       [0, 0, 0, ..., 0, 0, 0],\n",
        "       ..., \n",
        "       [0, 0, 0, ..., 0, 0, 0],\n",
        "       [0, 0, 0, ..., 0, 0, 0],\n",
        "       [0, 0, 0, ..., 0, 0, 0]])"
       ]
      }
     ],
     "prompt_number": 40
    },
    {
     "cell_type": "code",
     "collapsed": false,
     "input": [
      "np.dot(np.dot(u,np.diag(w)),vt)"
     ],
     "language": "python",
     "metadata": {},
     "outputs": [
      {
       "metadata": {},
       "output_type": "pyout",
       "prompt_number": 30,
       "text": [
        "array([[ 0.,  0.,  0.,  0.,  0.,  0.,  0.,  0.,  0.,  0.],\n",
        "       [ 0.,  0.,  0.,  0.,  0.,  0.,  0.,  0.,  0.,  0.],\n",
        "       [ 0.,  0.,  0.,  0.,  0.,  0.,  0.,  0.,  0.,  0.],\n",
        "       [ 0.,  0.,  0.,  0.,  0.,  0.,  0.,  0.,  0.,  0.],\n",
        "       [ 0.,  0.,  0.,  0.,  0.,  0.,  0.,  0.,  0.,  0.],\n",
        "       [ 0.,  0.,  0.,  0.,  0.,  0.,  0.,  0.,  0.,  0.],\n",
        "       [ 0.,  0.,  0.,  0.,  0.,  0.,  0.,  0.,  0.,  0.],\n",
        "       [ 0.,  0.,  0.,  0.,  0.,  0.,  0.,  0.,  0.,  0.],\n",
        "       [ 0.,  0.,  0.,  0.,  0.,  0.,  0.,  0.,  0.,  0.],\n",
        "       [ 0.,  0.,  0.,  0.,  0.,  0.,  0.,  0.,  0.,  0.]])"
       ]
      }
     ],
     "prompt_number": 30
    },
    {
     "cell_type": "code",
     "collapsed": false,
     "input": [
      "np."
     ],
     "language": "python",
     "metadata": {},
     "outputs": []
    },
    {
     "cell_type": "code",
     "collapsed": false,
     "input": [
      "np.linalg.norm(A - np.dot(np.dot(u,np.diag(w)), vt)) / np.linalg.norm(A)"
     ],
     "language": "python",
     "metadata": {},
     "outputs": [
      {
       "metadata": {},
       "output_type": "pyout",
       "prompt_number": 25,
       "text": [
        "1.0"
       ]
      }
     ],
     "prompt_number": 25
    },
    {
     "cell_type": "code",
     "collapsed": false,
     "input": [
      "plt.plot(w)"
     ],
     "language": "python",
     "metadata": {},
     "outputs": [
      {
       "metadata": {},
       "output_type": "pyout",
       "prompt_number": 19,
       "text": [
        "[<matplotlib.lines.Line2D at 0x109690ed0>]"
       ]
      },
      {
       "metadata": {},
       "output_type": "display_data",
       "png": "[encoded data removed]",
       "text": [
        "<matplotlib.figure.Figure at 0x105d9c450>"
       ]
      }
     ],
     "prompt_number": 19
    },
    {
     "cell_type": "code",
     "collapsed": false,
     "input": [
      "rv1 = np.arange(1,10+1)"
     ],
     "language": "python",
     "metadata": {},
     "outputs": [],
     "prompt_number": 11
    },
    {
     "cell_type": "code",
     "collapsed": false,
     "input": [
      "for i in xrange(1,11):\n",
      "    print rv1[i]"
     ],
     "language": "python",
     "metadata": {},
     "outputs": [
      {
       "ename": "IndexError",
       "evalue": "index 10 is out of bounds for axis 0 with size 10",
       "output_type": "pyerr",
       "traceback": [
        "\u001b[0;31m---------------------------------------------------------------------------\u001b[0m\n\u001b[0;31mIndexError\u001b[0m                                Traceback (most recent call last)",
        "\u001b[0;32m<ipython-input-12-455b1fca28cf>\u001b[0m in \u001b[0;36m<module>\u001b[0;34m()\u001b[0m\n\u001b[1;32m      1\u001b[0m \u001b[0;32mfor\u001b[0m \u001b[0mi\u001b[0m \u001b[0;32min\u001b[0m \u001b[0mxrange\u001b[0m\u001b[0;34m(\u001b[0m\u001b[0;36m1\u001b[0m\u001b[0;34m,\u001b[0m\u001b[0;36m11\u001b[0m\u001b[0;34m)\u001b[0m\u001b[0;34m:\u001b[0m\u001b[0;34m\u001b[0m\u001b[0m\n\u001b[0;32m----> 2\u001b[0;31m     \u001b[0;32mprint\u001b[0m \u001b[0mrv1\u001b[0m\u001b[0;34m[\u001b[0m\u001b[0mi\u001b[0m\u001b[0;34m]\u001b[0m\u001b[0;34m\u001b[0m\u001b[0m\n\u001b[0m",
        "\u001b[0;31mIndexError\u001b[0m: index 10 is out of bounds for axis 0 with size 10"
       ]
      },
      {
       "output_type": "stream",
       "stream": "stdout",
       "text": [
        "2\n",
        "3\n",
        "4\n",
        "5\n",
        "6\n",
        "7\n",
        "8\n",
        "9\n",
        "10\n"
       ]
      }
     ],
     "prompt_number": 12
    },
    {
     "cell_type": "code",
     "collapsed": false,
     "input": [],
     "language": "python",
     "metadata": {},
     "outputs": []
    },
    {
     "cell_type": "code",
     "collapsed": false,
     "input": [],
     "language": "python",
     "metadata": {},
     "outputs": []
    },
    {
     "cell_type": "code",
     "collapsed": false,
     "input": [],
     "language": "python",
     "metadata": {},
     "outputs": []
    },
    {
     "cell_type": "code",
     "collapsed": false,
     "input": [],
     "language": "python",
     "metadata": {},
     "outputs": []
    },
    {
     "cell_type": "code",
     "collapsed": false,
     "input": [
      "u,s,v = np.linalg.svd(A[:100,:], full_matrices=True)"
     ],
     "language": "python",
     "metadata": {},
     "outputs": [],
     "prompt_number": 35
    },
    {
     "cell_type": "code",
     "collapsed": false,
     "input": [
      "print s\n",
      "plt.plot(s)"
     ],
     "language": "python",
     "metadata": {},
     "outputs": [
      {
       "output_type": "stream",
       "stream": "stdout",
       "text": [
        "[ 1591.13348443   357.68022564   335.4221947    306.17198177   295.072747\n",
        "   276.57004051   264.97242721   250.81111601   239.62949306   216.33527088]\n"
       ]
      },
      {
       "metadata": {},
       "output_type": "pyout",
       "prompt_number": 36,
       "text": [
        "[<matplotlib.lines.Line2D at 0x10a108b10>]"
       ]
      },
      {
       "metadata": {},
       "output_type": "display_data",
       "png": "[encoded data removed]",
       "text": [
        "<matplotlib.figure.Figure at 0x1062e6a50>"
       ]
      }
     ],
     "prompt_number": 36
    },
    {
     "cell_type": "code",
     "collapsed": false,
     "input": [
      "k = 5"
     ],
     "language": "python",
     "metadata": {},
     "outputs": [],
     "prompt_number": 37
    },
    {
     "cell_type": "code",
     "collapsed": false,
     "input": [
      "u.shape"
     ],
     "language": "python",
     "metadata": {},
     "outputs": [
      {
       "metadata": {},
       "output_type": "pyout",
       "prompt_number": 38,
       "text": [
        "(100, 100)"
       ]
      }
     ],
     "prompt_number": 38
    },
    {
     "cell_type": "code",
     "collapsed": false,
     "input": [
      "uk = u[:,:k]\n",
      "sk = np.diag(s[:k])\n",
      "vk = v[:k,:]"
     ],
     "language": "python",
     "metadata": {},
     "outputs": [],
     "prompt_number": 40
    },
    {
     "cell_type": "code",
     "collapsed": false,
     "input": [
      "uk.shape, sk.shape, vk.shape"
     ],
     "language": "python",
     "metadata": {},
     "outputs": [
      {
       "metadata": {},
       "output_type": "pyout",
       "prompt_number": 41,
       "text": [
        "((100, 5), (5, 5), (5, 10))"
       ]
      }
     ],
     "prompt_number": 41
    },
    {
     "cell_type": "code",
     "collapsed": false,
     "input": [
      "np.linalg.norm(A[:100,:] - np.dot(np.dot(uk,sk),vk)) / np.linalg.norm(A[:100,:])"
     ],
     "language": "python",
     "metadata": {},
     "outputs": [
      {
       "metadata": {},
       "output_type": "pyout",
       "prompt_number": 45,
       "text": [
        "0.30994687574972202"
       ]
      }
     ],
     "prompt_number": 45
    },
    {
     "cell_type": "code",
     "collapsed": false,
     "input": [
      "c = A[100,:]"
     ],
     "language": "python",
     "metadata": {},
     "outputs": [],
     "prompt_number": 46
    },
    {
     "cell_type": "code",
     "collapsed": false,
     "input": [
      "c"
     ],
     "language": "python",
     "metadata": {},
     "outputs": [
      {
       "metadata": {},
       "output_type": "pyout",
       "prompt_number": 47,
       "text": [
        "array([40, 74, 13,  0,  9, 37, 74, 73, 59, 88])"
       ]
      }
     ],
     "prompt_number": 47
    },
    {
     "cell_type": "code",
     "collapsed": false,
     "input": [
      "cp = np.dot(np.dot(c,vk.T), np.linalg.pinv(sk))"
     ],
     "language": "python",
     "metadata": {},
     "outputs": [],
     "prompt_number": 54
    },
    {
     "cell_type": "code",
     "collapsed": false,
     "input": [
      "cp"
     ],
     "language": "python",
     "metadata": {},
     "outputs": [
      {
       "metadata": {},
       "output_type": "pyout",
       "prompt_number": 55,
       "text": [
        "array([-0.09337465, -0.00352467, -0.00765694, -0.12343926, -0.16832165])"
       ]
      }
     ],
     "prompt_number": 55
    },
    {
     "cell_type": "code",
     "collapsed": false,
     "input": [
      "uk"
     ],
     "language": "python",
     "metadata": {},
     "outputs": [
      {
       "metadata": {},
       "output_type": "pyout",
       "prompt_number": 56,
       "text": [
        "array([[-0.08363738,  0.05859351,  0.22158304,  0.06591703, -0.09499555],\n",
        "       [-0.08216688, -0.15363809, -0.21501746,  0.09922139,  0.09564401],\n",
        "       [-0.0765741 , -0.00344957,  0.13431919,  0.03442881,  0.10106906],\n",
        "       [-0.06223109, -0.02593285,  0.03819022,  0.10131377,  0.04524908],\n",
        "       [-0.11312058,  0.00138272, -0.0649606 ,  0.14184912, -0.13554349],\n",
        "       [-0.08041817,  0.03039872,  0.08421082, -0.22522193, -0.13532509],\n",
        "       [-0.08154824,  0.10340473,  0.09403536,  0.07980781,  0.18486414],\n",
        "       [-0.11714152, -0.05566195,  0.04746628, -0.08009404, -0.01487551],\n",
        "       [-0.10345152, -0.04055056,  0.07995819, -0.16605792,  0.04786824],\n",
        "       [-0.12122303,  0.07148621, -0.09679514,  0.06840581,  0.07288111],\n",
        "       [-0.0715412 , -0.20722684, -0.01408488,  0.04354981, -0.08961239],\n",
        "       [-0.12469966,  0.01317518, -0.03398995, -0.07012124,  0.2263    ],\n",
        "       [-0.08064611, -0.23854339,  0.0289986 , -0.06835648, -0.12320215],\n",
        "       [-0.08832365, -0.01372275, -0.10206962,  0.16795912, -0.14291476],\n",
        "       [-0.10794121,  0.06373743, -0.08358803, -0.03907182,  0.05245795],\n",
        "       [-0.10553958, -0.01330606, -0.02334367, -0.18907604,  0.03273287],\n",
        "       [-0.09600169, -0.18402646,  0.11408054,  0.11274291,  0.10166826],\n",
        "       [-0.0911175 ,  0.12239363, -0.06215161,  0.11449571,  0.01850626],\n",
        "       [-0.10672066, -0.00331008,  0.0102673 ,  0.00697483, -0.12699555],\n",
        "       [-0.11528997, -0.13588284,  0.03253877, -0.09341549, -0.1270695 ],\n",
        "       [-0.12189415, -0.04936223, -0.10159713, -0.11957693, -0.05386677],\n",
        "       [-0.09218153,  0.02519358, -0.0827257 ,  0.10040493,  0.09281146],\n",
        "       [-0.11599979, -0.12554857, -0.04053784,  0.1722456 , -0.16269899],\n",
        "       [-0.08222502, -0.09898031,  0.003554  , -0.03541533, -0.06527713],\n",
        "       [-0.12555671,  0.11716138, -0.05201322,  0.04087723, -0.04434288],\n",
        "       [-0.11599688,  0.09997469,  0.02039299,  0.09035373,  0.00072964],\n",
        "       [-0.10186747, -0.03780776,  0.08115981,  0.05347463,  0.15344363],\n",
        "       [-0.10027585, -0.11176192, -0.07820838,  0.04318473,  0.12439325],\n",
        "       [-0.06605827, -0.06123692, -0.03689951,  0.00272687, -0.03798532],\n",
        "       [-0.09474767, -0.13317069, -0.1537054 , -0.11651026,  0.04253959],\n",
        "       [-0.09010079, -0.01200585,  0.01538218, -0.13601159,  0.01339717],\n",
        "       [-0.10555357, -0.02522439,  0.22811926, -0.24512534,  0.04346509],\n",
        "       [-0.09270308, -0.11999953,  0.0883048 ,  0.12239614,  0.11073484],\n",
        "       [-0.09390307,  0.11340239,  0.0853875 ,  0.12714863, -0.15988623],\n",
        "       [-0.08498248,  0.04824697,  0.04951967, -0.050683  , -0.0462388 ],\n",
        "       [-0.11532397,  0.06165494,  0.04296653,  0.04365387, -0.04672532],\n",
        "       [-0.11840309,  0.15493135, -0.06406024, -0.04391015,  0.06715593],\n",
        "       [-0.06541409, -0.07656454,  0.15131913,  0.02845371,  0.06781583],\n",
        "       [-0.11672417,  0.15328898,  0.01350319, -0.08913281,  0.14566087],\n",
        "       [-0.12268008, -0.05851108,  0.12563835,  0.11182572,  0.06611562],\n",
        "       [-0.06800202, -0.23750605,  0.1453406 , -0.00790975, -0.11776581],\n",
        "       [-0.10911722,  0.04881592,  0.13859838, -0.09746707, -0.09241775],\n",
        "       [-0.0834288 ,  0.09218423,  0.03560873,  0.056465  , -0.16119234],\n",
        "       [-0.12756775, -0.01390075,  0.04426704,  0.00254406, -0.11740573],\n",
        "       [-0.09864599, -0.07600118,  0.19298678,  0.18565515,  0.08366791],\n",
        "       [-0.13315542, -0.10046142,  0.11850494,  0.03436389,  0.09026478],\n",
        "       [-0.11925496, -0.0281458 , -0.14469078, -0.10474039, -0.09128685],\n",
        "       [-0.09567528, -0.09913324, -0.09752756, -0.01290235,  0.01339499],\n",
        "       [-0.09372126,  0.07169394, -0.12763061,  0.02651644, -0.08960756],\n",
        "       [-0.08043866,  0.18217556,  0.00713084,  0.17915691, -0.09870856],\n",
        "       [-0.07755399, -0.01671671, -0.05326788,  0.12204036, -0.08480592],\n",
        "       [-0.06107846, -0.06865321, -0.19894017, -0.09430764, -0.01077503],\n",
        "       [-0.12445763, -0.00721396, -0.07978094, -0.11707177,  0.01176891],\n",
        "       [-0.07387845,  0.13822579, -0.00314036, -0.04482263,  0.03446694],\n",
        "       [-0.07753498,  0.00112638,  0.00237573, -0.03930728,  0.11037804],\n",
        "       [-0.13232515,  0.10260484, -0.02007937,  0.04935029,  0.06608967],\n",
        "       [-0.09448049,  0.16331045,  0.02279893,  0.12259116, -0.06777212],\n",
        "       [-0.09246211, -0.06086469,  0.01014828,  0.13150006,  0.26753761],\n",
        "       [-0.10750527, -0.00304677, -0.08083895,  0.09165011, -0.16439462],\n",
        "       [-0.10520821,  0.06325882, -0.08842314, -0.07042278, -0.03138894],\n",
        "       [-0.10483375, -0.01653202,  0.06613971,  0.00624901,  0.01576336],\n",
        "       [-0.11819733, -0.11645332, -0.2618017 ,  0.13269735,  0.04138917],\n",
        "       [-0.07746817,  0.01094698,  0.03810188,  0.12770485,  0.07624031],\n",
        "       [-0.08372111,  0.00689005,  0.01854623,  0.10217221,  0.01238939],\n",
        "       [-0.09546036, -0.00761544, -0.13546189, -0.08310387,  0.15305997],\n",
        "       [-0.10764699,  0.20066714,  0.07926389,  0.02626085, -0.00874818],\n",
        "       [-0.10240076, -0.00935808, -0.06222107,  0.04548639, -0.08311815],\n",
        "       [-0.10118329, -0.01626803, -0.01304033,  0.12593997, -0.10073777],\n",
        "       [-0.09597987,  0.01615893,  0.21972704, -0.19811786,  0.0019723 ],\n",
        "       [-0.08489284, -0.07664932,  0.04167996, -0.05288362, -0.03373536],\n",
        "       [-0.07194452,  0.09016756,  0.1588254 , -0.01914906,  0.0557571 ],\n",
        "       [-0.08929657, -0.09300202, -0.16964278, -0.02919864,  0.08786287],\n",
        "       [-0.09997551,  0.1163849 ,  0.16076799, -0.02291018, -0.11114017],\n",
        "       [-0.11793055, -0.18734388, -0.07228349, -0.07533973, -0.13095059],\n",
        "       [-0.11272036,  0.11552677, -0.14494131, -0.03344159,  0.12012414],\n",
        "       [-0.08434813, -0.19089568,  0.08696245, -0.04189728,  0.04414197],\n",
        "       [-0.08172568,  0.08266095, -0.05460151, -0.15534992, -0.0455479 ],\n",
        "       [-0.10058194,  0.16653075, -0.07157812, -0.10268927,  0.05903882],\n",
        "       [-0.11392369,  0.0556164 ,  0.10935237, -0.08653443,  0.05931567],\n",
        "       [-0.09570582,  0.19274626,  0.05186379, -0.04097659, -0.07287145],\n",
        "       [-0.08137983, -0.02838209, -0.03244933, -0.02440813, -0.23664256],\n",
        "       [-0.09631124,  0.05054941, -0.05953032, -0.1807343 , -0.03500413],\n",
        "       [-0.07787144,  0.00284748, -0.12515106, -0.01609026, -0.10821461],\n",
        "       [-0.07579493,  0.0090213 ,  0.03991944, -0.01995047,  0.05148781],\n",
        "       [-0.09779068,  0.19147378,  0.00721422, -0.04281591,  0.02705134],\n",
        "       [-0.11029021, -0.0395829 ,  0.01479676,  0.03996646,  0.00982941],\n",
        "       [-0.08151996,  0.02784944, -0.0847933 ,  0.10443926, -0.09963915],\n",
        "       [-0.09828479, -0.06645941, -0.0119199 , -0.06213345,  0.19600442],\n",
        "       [-0.07565933, -0.08377842,  0.03173362,  0.05470355,  0.18744378],\n",
        "       [-0.10487315,  0.0501485 , -0.06336459, -0.14448265, -0.05366597],\n",
        "       [-0.09838191, -0.12026534, -0.02065193,  0.14126832,  0.00490771],\n",
        "       [-0.10879582, -0.03472779,  0.05584834,  0.01900039,  0.1026922 ],\n",
        "       [-0.13024647, -0.13150176,  0.09954098,  0.04347681,  0.03682775],\n",
        "       [-0.11826868, -0.09480771,  0.08080174, -0.05263007, -0.15664543],\n",
        "       [-0.10633632,  0.20690577, -0.04196138,  0.17607523,  0.08376954],\n",
        "       [-0.10441019, -0.02157626,  0.13588516,  0.01373734, -0.01883503],\n",
        "       [-0.11704333,  0.06824651,  0.0369505 ,  0.11783106, -0.13817163],\n",
        "       [-0.10514752,  0.03170616, -0.12850079, -0.1609467 ,  0.00039752],\n",
        "       [-0.12789541,  0.00843436,  0.04077027, -0.06401895,  0.01473803],\n",
        "       [-0.10365849,  0.02751901, -0.21145124, -0.04913344,  0.09076081]])"
       ]
      }
     ],
     "prompt_number": 56
    },
    {
     "cell_type": "code",
     "collapsed": false,
     "input": [
      "c.shape"
     ],
     "language": "python",
     "metadata": {},
     "outputs": [
      {
       "metadata": {},
       "output_type": "pyout",
       "prompt_number": 51,
       "text": [
        "(10,)"
       ]
      }
     ],
     "prompt_number": 51
    },
    {
     "cell_type": "code",
     "collapsed": false,
     "input": [
      "np.dot(np.dot(np.vstack((uk,cp)), sk), vk.T)"
     ],
     "language": "python",
     "metadata": {},
     "outputs": [
      {
       "ename": "ValueError",
       "evalue": "matrices are not aligned",
       "output_type": "pyerr",
       "traceback": [
        "\u001b[0;31m---------------------------------------------------------------------------\u001b[0m\n\u001b[0;31mValueError\u001b[0m                                Traceback (most recent call last)",
        "\u001b[0;32m<ipython-input-58-bf95440f34c5>\u001b[0m in \u001b[0;36m<module>\u001b[0;34m()\u001b[0m\n\u001b[0;32m----> 1\u001b[0;31m \u001b[0mnp\u001b[0m\u001b[0;34m.\u001b[0m\u001b[0mdot\u001b[0m\u001b[0;34m(\u001b[0m\u001b[0mnp\u001b[0m\u001b[0;34m.\u001b[0m\u001b[0mdot\u001b[0m\u001b[0;34m(\u001b[0m\u001b[0mnp\u001b[0m\u001b[0;34m.\u001b[0m\u001b[0mvstack\u001b[0m\u001b[0;34m(\u001b[0m\u001b[0;34m(\u001b[0m\u001b[0muk\u001b[0m\u001b[0;34m,\u001b[0m\u001b[0mcp\u001b[0m\u001b[0;34m)\u001b[0m\u001b[0;34m)\u001b[0m\u001b[0;34m,\u001b[0m \u001b[0msk\u001b[0m\u001b[0;34m)\u001b[0m\u001b[0;34m,\u001b[0m \u001b[0mvk\u001b[0m\u001b[0;34m.\u001b[0m\u001b[0mT\u001b[0m\u001b[0;34m)\u001b[0m\u001b[0;34m\u001b[0m\u001b[0m\n\u001b[0m",
        "\u001b[0;31mValueError\u001b[0m: matrices are not aligned"
       ]
      }
     ],
     "prompt_number": 58
    },
    {
     "cell_type": "code",
     "collapsed": false,
     "input": [
      "Ak_p1 = np.dot(np.dot(np.vstack((uk,cp)), sk), vk)"
     ],
     "language": "python",
     "metadata": {},
     "outputs": [],
     "prompt_number": 62
    },
    {
     "cell_type": "code",
     "collapsed": false,
     "input": [
      "Ak_p1.shape"
     ],
     "language": "python",
     "metadata": {},
     "outputs": [
      {
       "metadata": {},
       "output_type": "pyout",
       "prompt_number": 64,
       "text": [
        "(101, 10)"
       ]
      }
     ],
     "prompt_number": 64
    },
    {
     "cell_type": "code",
     "collapsed": false,
     "input": [
      "np.linalg.norm(A[:101,:] - Ak_p1)"
     ],
     "language": "python",
     "metadata": {},
     "outputs": [
      {
       "metadata": {},
       "output_type": "pyout",
       "prompt_number": 65,
       "text": [
        "564.42799750904453"
       ]
      }
     ],
     "prompt_number": 65
    },
    {
     "cell_type": "code",
     "collapsed": false,
     "input": [
      "20000 / 400000."
     ],
     "language": "python",
     "metadata": {},
     "outputs": [
      {
       "metadata": {},
       "output_type": "pyout",
       "prompt_number": 67,
       "text": [
        "0.05"
       ]
      }
     ],
     "prompt_number": 67
    },
    {
     "cell_type": "code",
     "collapsed": false,
     "input": [
      "1000 /.05"
     ],
     "language": "python",
     "metadata": {},
     "outputs": [
      {
       "metadata": {},
       "output_type": "pyout",
       "prompt_number": 69,
       "text": [
        "20000.0"
       ]
      }
     ],
     "prompt_number": 69
    },
    {
     "cell_type": "code",
     "collapsed": false,
     "input": [
      "data = mmread('subset.mtx').todense()"
     ],
     "language": "python",
     "metadata": {},
     "outputs": [],
     "prompt_number": 3
    },
    {
     "cell_type": "code",
     "collapsed": false,
     "input": [
      "data.shape"
     ],
     "language": "python",
     "metadata": {},
     "outputs": [
      {
       "metadata": {},
       "output_type": "pyout",
       "prompt_number": 4,
       "text": [
        "(20000, 1000)"
       ]
      }
     ],
     "prompt_number": 4
    },
    {
     "cell_type": "code",
     "collapsed": false,
     "input": [
      "num = 1000"
     ],
     "language": "python",
     "metadata": {},
     "outputs": [],
     "prompt_number": 5
    },
    {
     "cell_type": "code",
     "collapsed": false,
     "input": [
      "A"
     ],
     "language": "python",
     "metadata": {},
     "outputs": []
    },
    {
     "cell_type": "code",
     "collapsed": false,
     "input": [
      "u,s,v = np.linalg.svd(data[:num,:], full_matrices=True)"
     ],
     "language": "python",
     "metadata": {},
     "outputs": [],
     "prompt_number": 41
    },
    {
     "cell_type": "code",
     "collapsed": false,
     "input": [
      "u.shape"
     ],
     "language": "python",
     "metadata": {},
     "outputs": [
      {
       "metadata": {},
       "output_type": "pyout",
       "prompt_number": 42,
       "text": [
        "(1000, 1000)"
       ]
      }
     ],
     "prompt_number": 42
    },
    {
     "cell_type": "code",
     "collapsed": false,
     "input": [
      "k = 6"
     ],
     "language": "python",
     "metadata": {},
     "outputs": [],
     "prompt_number": 43
    },
    {
     "cell_type": "code",
     "collapsed": false,
     "input": [
      "uk = u[:,:k]\n",
      "sk = np.diag(s[:k])\n",
      "vk = v[:k,:]"
     ],
     "language": "python",
     "metadata": {},
     "outputs": [],
     "prompt_number": 52
    },
    {
     "cell_type": "code",
     "collapsed": false,
     "input": [
      "from numpy.linalg import norm"
     ],
     "language": "python",
     "metadata": {},
     "outputs": [],
     "prompt_number": 45
    },
    {
     "cell_type": "code",
     "collapsed": false,
     "input": [
      "rel_err = [norm(data[:num,:] - np.dot(np.dot(uk,sk),vk)) / norm(data[:num,:])]"
     ],
     "language": "python",
     "metadata": {},
     "outputs": [],
     "prompt_number": 46
    },
    {
     "cell_type": "code",
     "collapsed": false,
     "input": [
      "rel_err"
     ],
     "language": "python",
     "metadata": {},
     "outputs": [
      {
       "metadata": {},
       "output_type": "pyout",
       "prompt_number": 47,
       "text": [
        "[0.74256369953353896]"
       ]
      }
     ],
     "prompt_number": 47
    },
    {
     "cell_type": "code",
     "collapsed": false,
     "input": [
      "sinv = np.linalg.pinv(sk)"
     ],
     "language": "python",
     "metadata": {},
     "outputs": [],
     "prompt_number": 48
    },
    {
     "cell_type": "code",
     "collapsed": false,
     "input": [
      "for i in xrange(data.shape[0] - num):\n",
      "    if i % 100 == 0:\n",
      "        print i\n",
      "    c = data[num + i,:]\n",
      "    cp = np.dot(np.dot(c,vk.T), sinv)\n",
      "    uk = np.vstack((uk, cp))\n",
      "    #rel_err.append(norm(data[:(num+i+1),:] - np.dot(np.dot(uk,sk),vk)) / norm(data[:num,:]))"
     ],
     "language": "python",
     "metadata": {},
     "outputs": [
      {
       "output_type": "stream",
       "stream": "stdout",
       "text": [
        "100\n",
        "200\n",
        "300\n",
        "400\n",
        "500\n",
        "600\n",
        "700\n",
        "800"
       ]
      },
      {
       "output_type": "stream",
       "stream": "stdout",
       "text": [
        "\n",
        "900\n",
        "1000\n",
        "1100\n",
        "1200\n",
        "1300\n",
        "1400\n",
        "1500"
       ]
      },
      {
       "output_type": "stream",
       "stream": "stdout",
       "text": [
        "\n",
        "1600\n",
        "1700\n",
        "1800\n",
        "1900\n",
        "2000\n",
        "2100"
       ]
      },
      {
       "output_type": "stream",
       "stream": "stdout",
       "text": [
        "\n",
        "2200\n",
        "2300\n",
        "2400\n",
        "2500\n",
        "2600\n",
        "2700"
       ]
      },
      {
       "output_type": "stream",
       "stream": "stdout",
       "text": [
        "\n",
        "2800\n",
        "2900\n",
        "3000\n",
        "3100\n",
        "3200\n",
        "3300"
       ]
      },
      {
       "output_type": "stream",
       "stream": "stdout",
       "text": [
        "\n",
        "3400\n",
        "3500\n",
        "3600\n",
        "3700\n",
        "3800\n",
        "3900"
       ]
      },
      {
       "output_type": "stream",
       "stream": "stdout",
       "text": [
        "\n",
        "4000\n",
        "4100\n",
        "4200\n",
        "4300\n",
        "4400\n",
        "4500"
       ]
      },
      {
       "output_type": "stream",
       "stream": "stdout",
       "text": [
        "\n",
        "4600\n",
        "4700\n",
        "4800\n",
        "4900\n",
        "5000"
       ]
      },
      {
       "output_type": "stream",
       "stream": "stdout",
       "text": [
        "\n",
        "5100\n",
        "5200\n",
        "5300\n",
        "5400\n",
        "5500"
       ]
      },
      {
       "output_type": "stream",
       "stream": "stdout",
       "text": [
        "\n",
        "5600\n",
        "5700\n",
        "5800\n",
        "5900\n",
        "6000"
       ]
      },
      {
       "output_type": "stream",
       "stream": "stdout",
       "text": [
        "\n",
        "6100\n",
        "6200\n",
        "6300\n",
        "6400\n",
        "6500"
       ]
      },
      {
       "output_type": "stream",
       "stream": "stdout",
       "text": [
        "\n",
        "6600\n",
        "6700\n",
        "6800\n",
        "6900\n",
        "7000"
       ]
      },
      {
       "output_type": "stream",
       "stream": "stdout",
       "text": [
        "\n",
        "7100\n",
        "7200\n",
        "7300\n",
        "7400\n",
        "7500"
       ]
      },
      {
       "output_type": "stream",
       "stream": "stdout",
       "text": [
        "\n",
        "7600\n",
        "7700\n",
        "7800\n",
        "7900\n",
        "8000"
       ]
      },
      {
       "output_type": "stream",
       "stream": "stdout",
       "text": [
        "\n",
        "8100\n",
        "8200\n",
        "8300\n",
        "8400\n",
        "8500"
       ]
      },
      {
       "output_type": "stream",
       "stream": "stdout",
       "text": [
        "\n",
        "8600\n",
        "8700\n",
        "8800\n",
        "8900\n",
        "9000"
       ]
      },
      {
       "output_type": "stream",
       "stream": "stdout",
       "text": [
        "\n",
        "9100\n",
        "9200\n",
        "9300\n",
        "9400\n",
        "9500"
       ]
      },
      {
       "output_type": "stream",
       "stream": "stdout",
       "text": [
        "\n",
        "9600\n",
        "9700\n",
        "9800\n",
        "9900"
       ]
      },
      {
       "output_type": "stream",
       "stream": "stdout",
       "text": [
        "\n",
        "10000\n",
        "10100\n",
        "10200\n",
        "10300\n",
        "10400"
       ]
      },
      {
       "output_type": "stream",
       "stream": "stdout",
       "text": [
        "\n",
        "10500\n",
        "10600\n",
        "10700\n",
        "10800"
       ]
      },
      {
       "output_type": "stream",
       "stream": "stdout",
       "text": [
        "\n",
        "10900\n",
        "11000\n",
        "11100\n",
        "11200"
       ]
      },
      {
       "output_type": "stream",
       "stream": "stdout",
       "text": [
        "\n",
        "11300\n",
        "11400\n",
        "11500\n",
        "11600"
       ]
      },
      {
       "output_type": "stream",
       "stream": "stdout",
       "text": [
        "\n",
        "11700\n",
        "11800\n",
        "11900\n",
        "12000"
       ]
      },
      {
       "output_type": "stream",
       "stream": "stdout",
       "text": [
        "\n",
        "12100\n",
        "12200\n",
        "12300\n",
        "12400"
       ]
      },
      {
       "output_type": "stream",
       "stream": "stdout",
       "text": [
        "\n",
        "12500\n",
        "12600\n",
        "12700\n",
        "12800"
       ]
      },
      {
       "output_type": "stream",
       "stream": "stdout",
       "text": [
        "\n",
        "12900\n",
        "13000\n",
        "13100\n",
        "13200"
       ]
      },
      {
       "output_type": "stream",
       "stream": "stdout",
       "text": [
        "\n",
        "13300\n",
        "13400\n",
        "13500\n",
        "13600"
       ]
      },
      {
       "output_type": "stream",
       "stream": "stdout",
       "text": [
        "\n",
        "13700\n",
        "13800\n",
        "13900\n",
        "14000"
       ]
      },
      {
       "output_type": "stream",
       "stream": "stdout",
       "text": [
        "\n",
        "14100\n",
        "14200\n",
        "14300\n",
        "14400"
       ]
      },
      {
       "output_type": "stream",
       "stream": "stdout",
       "text": [
        "\n",
        "14500\n",
        "14600\n",
        "14700\n",
        "14800"
       ]
      },
      {
       "output_type": "stream",
       "stream": "stdout",
       "text": [
        "\n",
        "14900\n",
        "15000\n",
        "15100\n",
        "15200"
       ]
      },
      {
       "output_type": "stream",
       "stream": "stdout",
       "text": [
        "\n",
        "15300\n",
        "15400\n",
        "15500\n",
        "15600"
       ]
      },
      {
       "output_type": "stream",
       "stream": "stdout",
       "text": [
        "\n",
        "15700\n",
        "15800\n",
        "15900\n",
        "16000"
       ]
      },
      {
       "output_type": "stream",
       "stream": "stdout",
       "text": [
        "\n",
        "16100\n",
        "16200\n",
        "16300\n",
        "16400"
       ]
      },
      {
       "output_type": "stream",
       "stream": "stdout",
       "text": [
        "\n",
        "16500\n",
        "16600\n",
        "16700\n",
        "16800"
       ]
      },
      {
       "output_type": "stream",
       "stream": "stdout",
       "text": [
        "\n",
        "16900\n",
        "17000\n",
        "17100\n",
        "17200"
       ]
      },
      {
       "output_type": "stream",
       "stream": "stdout",
       "text": [
        "\n",
        "17300\n",
        "17400\n",
        "17500\n",
        "17600"
       ]
      },
      {
       "output_type": "stream",
       "stream": "stdout",
       "text": [
        "\n",
        "17700\n",
        "17800\n",
        "17900\n",
        "18000"
       ]
      },
      {
       "output_type": "stream",
       "stream": "stdout",
       "text": [
        "\n",
        "18100\n",
        "18200\n",
        "18300\n",
        "18400"
       ]
      },
      {
       "output_type": "stream",
       "stream": "stdout",
       "text": [
        "\n",
        "18500\n",
        "18600\n",
        "18700\n",
        "18800"
       ]
      },
      {
       "output_type": "stream",
       "stream": "stdout",
       "text": [
        "\n",
        "18900\n"
       ]
      }
     ],
     "prompt_number": 53
    },
    {
     "cell_type": "code",
     "collapsed": false,
     "input": [
      "plt.plot(rel_err)"
     ],
     "language": "python",
     "metadata": {},
     "outputs": [
      {
       "metadata": {},
       "output_type": "pyout",
       "prompt_number": 108,
       "text": [
        "[<matplotlib.lines.Line2D at 0x10a32dc90>]"
       ]
      },
      {
       "metadata": {},
       "output_type": "display_data",
       "png": "[encoded data removed]",
       "text": [
        "<matplotlib.figure.Figure at 0x10a1c6190>"
       ]
      }
     ],
     "prompt_number": 108
    },
    {
     "cell_type": "code",
     "collapsed": false,
     "input": [
      "norm(data - "
     ],
     "language": "python",
     "metadata": {},
     "outputs": [
      {
       "metadata": {},
       "output_type": "pyout",
       "prompt_number": 93,
       "text": [
        "(1, 1000)"
       ]
      }
     ],
     "prompt_number": 93
    },
    {
     "cell_type": "code",
     "collapsed": false,
     "input": [
      "uk.shape"
     ],
     "language": "python",
     "metadata": {},
     "outputs": [
      {
       "metadata": {},
       "output_type": "pyout",
       "prompt_number": 54,
       "text": [
        "(19990, 6)"
       ]
      }
     ],
     "prompt_number": 54
    },
    {
     "cell_type": "code",
     "collapsed": false,
     "input": [],
     "language": "python",
     "metadata": {},
     "outputs": []
    }
   ],
   "metadata": {}
  }
 ]
}